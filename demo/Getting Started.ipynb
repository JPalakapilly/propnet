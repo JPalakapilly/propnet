{
 "cells": [
  {
   "cell_type": "markdown",
   "metadata": {},
   "source": [
    "# Getting Started with Propnet"
   ]
  },
  {
   "cell_type": "markdown",
   "metadata": {},
   "source": [
    "The Propnet object tells us all about the property types and models Propnet understands"
   ]
  },
  {
   "cell_type": "code",
   "execution_count": 1,
   "metadata": {},
   "outputs": [],
   "source": [
    "from propnet import Propnet"
   ]
  },
  {
   "cell_type": "code",
   "execution_count": 2,
   "metadata": {},
   "outputs": [],
   "source": [
    "p = Propnet()"
   ]
  },
  {
   "cell_type": "markdown",
   "metadata": {},
   "source": [
    "You can print Propnet to see the property types and models it supports."
   ]
  },
  {
   "cell_type": "code",
   "execution_count": 3,
   "metadata": {},
   "outputs": [
    {
     "name": "stdout",
     "output_type": "stream",
     "text": [
      "Propnet Graph\n",
      "\n",
      "Property Types:\n",
      "\t Elastic tensor (in Voigt notation)\n",
      "\t P-wave modulus\n",
      "\t Young's modulus\n",
      "\t Poisson ratio\n",
      "\t Lamé's first parameter\n",
      "\t Compliance tensor (in Voigt notation)\n",
      "\t Shear modulus\n",
      "\t Bulk modulus\n",
      "Models:\n",
      "\t Convert between elastic tensors and compliance tensors (in Voigt notation)\n",
      "\t Convert between isotropic elastic moduli\n",
      "\t Calculate isotropic elastic moduli from elastic tensor\n"
     ]
    }
   ],
   "source": [
    "print(p)"
   ]
  },
  {
   "cell_type": "markdown",
   "metadata": {},
   "source": [
    "Or you can iterate over the graph to see how it works behind the scenes."
   ]
  },
  {
   "cell_type": "code",
   "execution_count": 4,
   "metadata": {},
   "outputs": [
    {
     "name": "stdout",
     "output_type": "stream",
     "text": [
      "PropertyType.elastic_tensor_voigt\n",
      "PropertyType.p_wave_modulus\n",
      "PropertyType.youngs_modulus\n",
      "PropertyType.poisson_ratio\n",
      "PropertyType.lame_first_parameter\n",
      "PropertyType.compliance_tensor_voigt\n",
      "PropertyType.shear_modulus\n",
      "PropertyType.bulk_modulus\n",
      "<class 'propnet.models.ElasticComplianceVoigtConverter.ElasticComplianceVoigtConverter'>\n",
      "<class 'propnet.models.IsotropicElasticModuli.IsotropicElasticModuli'>\n",
      "<class 'propnet.models.IsotropicElasticModuliFromTensor.IsotropicElasticModuliFromTensor'>\n"
     ]
    }
   ],
   "source": [
    "for n in p.graph.nodes():\n",
    "    print(n)"
   ]
  },
  {
   "cell_type": "markdown",
   "metadata": {},
   "source": [
    "# Define a Material"
   ]
  },
  {
   "cell_type": "code",
   "execution_count": 5,
   "metadata": {},
   "outputs": [],
   "source": [
    "from propnet import Material"
   ]
  },
  {
   "cell_type": "code",
   "execution_count": 6,
   "metadata": {},
   "outputs": [],
   "source": [
    "m = Material()"
   ]
  },
  {
   "cell_type": "markdown",
   "metadata": {},
   "source": [
    "You can define the material's formula, or leave it blank for an anonymous material."
   ]
  },
  {
   "cell_type": "code",
   "execution_count": 7,
   "metadata": {},
   "outputs": [],
   "source": [
    "m.add_formula('Si')"
   ]
  },
  {
   "cell_type": "markdown",
   "metadata": {},
   "source": [
    "You can also add a property to the material."
   ]
  },
  {
   "cell_type": "code",
   "execution_count": 8,
   "metadata": {},
   "outputs": [],
   "source": [
    "m.add_property('poisson_ratio', 0.2)"
   ]
  },
  {
   "cell_type": "markdown",
   "metadata": {},
   "source": [
    "# Add the Material to Propnet and Evaluate"
   ]
  },
  {
   "cell_type": "code",
   "execution_count": 9,
   "metadata": {},
   "outputs": [],
   "source": [
    "p.add_material(m)"
   ]
  },
  {
   "cell_type": "markdown",
   "metadata": {},
   "source": [
    "You can now evaluate Propnet and retrieve all properties for the material that it knows how to calculate, and this is returned as a Pandas DataFrame."
   ]
  },
  {
   "cell_type": "code",
   "execution_count": 10,
   "metadata": {},
   "outputs": [],
   "source": [
    "# TODO: p.evaluate()"
   ]
  },
  {
   "cell_type": "markdown",
   "metadata": {},
   "source": [
    "# Running a Model Manually"
   ]
  },
  {
   "cell_type": "markdown",
   "metadata": {},
   "source": [
    "If you just want to run a single model and already know your inputs, this is easy to do!"
   ]
  },
  {
   "cell_type": "code",
   "execution_count": 11,
   "metadata": {},
   "outputs": [],
   "source": [
    "from propnet.models.IsotropicElasticModuli import IsotropicElasticModuli"
   ]
  },
  {
   "cell_type": "code",
   "execution_count": 12,
   "metadata": {},
   "outputs": [],
   "source": [
    "model = IsotropicElasticModuli()"
   ]
  },
  {
   "cell_type": "markdown",
   "metadata": {},
   "source": [
    "You can see the symbols it supports:"
   ]
  },
  {
   "cell_type": "code",
   "execution_count": 13,
   "metadata": {},
   "outputs": [
    {
     "data": {
      "text/plain": [
       "{'E': 'youngs_modulus', 'G': 'shear_modulus', 'n': 'poisson_ratio'}"
      ]
     },
     "execution_count": 13,
     "metadata": {},
     "output_type": "execute_result"
    }
   ],
   "source": [
    "model.symbol_mapping"
   ]
  },
  {
   "cell_type": "markdown",
   "metadata": {},
   "source": [
    "And can evaluate the model:"
   ]
  },
  {
   "cell_type": "code",
   "execution_count": 14,
   "metadata": {},
   "outputs": [
    {
     "data": {
      "text/html": [
       "40.0 gigapascal"
      ],
      "text/latex": [
       "$40.0\\ \\mathrm{gigapascal}$"
      ],
      "text/plain": [
       "<Quantity(40.0, 'gigapascal')>"
      ]
     },
     "execution_count": 14,
     "metadata": {},
     "output_type": "execute_result"
    }
   ],
   "source": [
    "model.evaluate({'E': 120, 'n': 0.5}, symbol_out='G')"
   ]
  },
  {
   "cell_type": "code",
   "execution_count": null,
   "metadata": {},
   "outputs": [],
   "source": []
  }
 ],
 "metadata": {
  "kernelspec": {
   "display_name": "Propnet",
   "language": "python",
   "name": "propnet"
  },
  "language_info": {
   "codemirror_mode": {
    "name": "ipython",
    "version": 3
   },
   "file_extension": ".py",
   "mimetype": "text/x-python",
   "name": "python",
   "nbconvert_exporter": "python",
   "pygments_lexer": "ipython3",
   "version": "3.6.0"
  }
 },
 "nbformat": 4,
 "nbformat_minor": 2
}
